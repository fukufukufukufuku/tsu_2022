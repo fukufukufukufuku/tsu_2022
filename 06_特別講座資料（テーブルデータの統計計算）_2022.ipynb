{
 "cells": [
  {
   "cell_type": "markdown",
   "metadata": {},
   "source": [
    "**2022年度 東京成徳大学 特別講座 資料**<br>\n",
    "**東京工科大学コンピュータサイエンス学部**<br>\n",
    "**福西広晃**"
   ]
  },
  {
   "cell_type": "markdown",
   "metadata": {},
   "source": [
    "----"
   ]
  },
  {
   "cell_type": "markdown",
   "metadata": {},
   "source": [
    "<span style=\"font-size: 250%; color: black;\">Pythonによるテーブルデータの操作と統計計算</span>"
   ]
  },
  {
   "cell_type": "markdown",
   "metadata": {},
   "source": [
    "----"
   ]
  },
  {
   "cell_type": "markdown",
   "metadata": {},
   "source": [
    "# 統計量の算出"
   ]
  },
  {
   "cell_type": "markdown",
   "metadata": {},
   "source": [
    "## データ取得\n",
    "今回用いるデータは、以下のデータです\n",
    "<br><br>\n",
    "Boston house-prices:  \n",
    "「1970年代後半における（米国マサチューセッツ州）ボストンの住宅価格」のデータを使用\n",
    "\n",
    "----\n",
    "- CRIM： 町別の「犯罪率」\n",
    "- ZN： 25,000平方フィートを超える区画に分類される住宅地の割合＝「広い家の割合」\n",
    "- INDUS： 町別の「非小売業の割合」\n",
    "- CHAS： チャールズ川のダミー変数（区画が川に接している場合は1、そうでない場合は0）＝「川の隣か」\n",
    "- NOX： 「NOx濃度（0.1ppm単位）」＝一酸化窒素濃度（parts per 10 million単位）。この項目を目的変数とする場合もある\n",
    "- RM： 1戸当たりの「平均部屋数」\n",
    "- AGE： 1940年より前に建てられた持ち家の割合＝「古い家の割合」\n",
    "- DIS： 5つあるボストン雇用センターまでの加重距離＝「主要施設への距離」\n",
    "- RAD： 「主要高速道路へのアクセス性」の指数\n",
    "- TAX： 10,000ドル当たりの「固定資産税率」\n",
    "- PTRATIO： 町別の「生徒と先生の比率」\n",
    "- B： 「1000(Bk - 0.63)」の二乗値。Bk＝「町ごとの黒人の割合」を指す\n",
    "- LSTAT： 「低所得者人口の割合」\n",
    "- MEDV：「住宅価格」（1000ドル単位）の中央値。通常はこの数値が目的変数として使われる"
   ]
  },
  {
   "cell_type": "code",
   "execution_count": null,
   "metadata": {},
   "outputs": [],
   "source": [
    "import pandas as pd\n",
    "\n",
    "# ファイルの指定\n",
    "\n",
    "# Google Colaboratoryの場合\n",
    "file = \"drive/My Drive/Colab Notebooks/dataset/boston.xlsx\"\n",
    "\n",
    "# Anacondaの場合(Google Colaboratoryの場合は削除してください)\n",
    "file = \"dataset/boston.xlsx\"\n",
    "\n",
    "# データをpandasで読み込み\n",
    "df_boston = pd.read_excel(file, sheet_name=\"boston\")\n",
    "\n",
    "# 先頭10行を表示\n",
    "display(df_boston.head(10))"
   ]
  },
  {
   "cell_type": "markdown",
   "metadata": {},
   "source": [
    "## 基本統計量の一覧を出力\n",
    "- 以下を実行すると、各列（数値列）の基本統計量が計算される\n",
    "```\n",
    "データフレーム名.describe()\n",
    "```\n",
    "- 計算結果はデータフレームとして得られる\n",
    "- 最初にデータの状況を確認する場合に便利\n",
    "||||\n",
    "|:-:|:-:|:--|\n",
    "|count |標本数　　　　　 |行数　　　　　　　　　　　　　　　　　　　　　　　　　　　　　　　　　　　　　　　　|\n",
    "|mean  |平均値           |算術平均                                                                            |\n",
    "|std   |標準偏差         |データのばらつき                                                                    |\n",
    "|min   |最小値           |最も小さい値                                                                        |\n",
    "|25%   |第1四分位数      |データを小さい順に並び替えたとき、データ個数を小さい方から数えて4分の1番目にあたる値|\n",
    "|50%   |第2四分位数(中央値)      |データを小さい順に並び替えたとき、データ個数を小さい方から数えて4分の2番目にあたる値|  \n",
    "|75%   |第3四分位数      |データを小さい順に並び替えたとき、データ個数を小さい方から数えて4分の3番目にあたる値|  \n",
    "|max   |最大値　　　　   |最も大きい値                                                                        |\n",
    "||||"
   ]
  },
  {
   "cell_type": "code",
   "execution_count": null,
   "metadata": {
    "scrolled": true
   },
   "outputs": [],
   "source": [
    "# 統計量を計算\n",
    "df_describe = df_boston.describe()\n",
    "\n",
    "# 表示\n",
    "display(df_describe)"
   ]
  },
  {
   "cell_type": "markdown",
   "metadata": {},
   "source": [
    "**結果をExcelファイルに出力(シートを追加)**\n",
    "- データフレーム名: `df_describe`\n",
    "- Excelファイル名: `出力結果.xlsx`（既に存在するファイル）\n",
    "- シート名: `boston_基本統計量`\n",
    "- index：出力あり"
   ]
  },
  {
   "cell_type": "code",
   "execution_count": null,
   "metadata": {},
   "outputs": [],
   "source": [
    "# 出力ファイル名を指定（Googleドライブの場合）\n",
    "outfile = \"drive/My Drive/Colab Notebooks/出力結果.xlsx\"\n",
    "\n",
    "# # 出力ファイル名を指定（Anacondaの場合, Google Colaboratoryの場合は削除してください)\n",
    "outfile = \"出力結果.xlsx\"\n",
    "\n",
    "# シート追加\n",
    "with pd.ExcelWriter(outfile, engine=\"openpyxl\", mode='a', if_sheet_exists=\"replace\") as writer:\n",
    "    df_describe.to_excel(writer, sheet_name=\"boston_基本統計量\")"
   ]
  },
  {
   "cell_type": "markdown",
   "metadata": {},
   "source": [
    "## 個別の統計量の計算\n",
    "\n",
    "||||\n",
    "|:-:|:--|:--|\n",
    "|要素の個数 |データフレーム名.count() | |\n",
    "|算術平均|データフレーム名.mean()| |\n",
    "|標準偏差|データフレーム名.std()|n-1で割った不偏標準偏差 |\n",
    "|最小値|データフレーム名.min()| |\n",
    "|最大値|データフレーム名.max()| |\n",
    "|中央値|データフレーム名.median()| |\n",
    "|最頻値|データフレーム名.mode()|最も出現回数の多い値 |\n",
    "|ユニークな値の個数|データフレーム名.nuique()|重複を除いた件数 |\n",
    "|特定の列のユニーク値の出現頻度|データフレーム名.value_counts()|Series型メソッド|\n",
    "||||"
   ]
  },
  {
   "cell_type": "markdown",
   "metadata": {},
   "source": [
    "## 特定の列のユニークな値の出現頻度\n",
    "- データフレームから対象の１列を抽出（シリーズ型になる）\n",
    "- `シリーズ名.value_counts()`\n",
    "- 出力もシリーズ型"
   ]
  },
  {
   "cell_type": "code",
   "execution_count": null,
   "metadata": {},
   "outputs": [],
   "source": [
    "vcount = df_boston[\"RAD\"].value_counts()\n",
    "\n",
    "# 特定の列のユニークな値の出現頻度を出力\n",
    "display(vcount)"
   ]
  },
  {
   "cell_type": "markdown",
   "metadata": {},
   "source": [
    "## 練習"
   ]
  },
  {
   "cell_type": "markdown",
   "metadata": {},
   "source": [
    "- 5教科（国語\t英語\t社会\t数学\t理科）のテスト結果のデータを用いる。以下に「5教科成績.xlsx」の「5教科成績」のシートを`df_score`のデータフレームに読み込む（このデータは架空データである）。\n",
    "- まず、表示されたデータフレームを見て、どのようなデータかを理解してください"
   ]
  },
  {
   "cell_type": "code",
   "execution_count": null,
   "metadata": {},
   "outputs": [],
   "source": [
    "import pandas as pd\n",
    "\n",
    "# ファイルの指定\n",
    "\n",
    "# Google Colaboratoryの場合\n",
    "file = \"drive/My Drive/Colab Notebooks/dataset/5教科成績.xlsx\"\n",
    "\n",
    "# # Anacondaの場合(Google Colaboratoryの場合は削除してください)\n",
    "file = \"dataset/5教科成績.xlsx\"\n",
    "\n",
    "# データをpandasで読み込み\n",
    "df_score = pd.read_excel(file, sheet_name=\"5教科成績\")\n",
    "\n",
    "# 先頭10行を出力\n",
    "display(df_score)"
   ]
  },
  {
   "cell_type": "markdown",
   "metadata": {},
   "source": [
    "(1) 基本統計量の一覧を表示してみよう。計算結果は、`df_describe_02`のデータフレームに格納するものとする。<br>\n",
    "また、計算結果を表示して、`学生数`、`最も平均点の高い教科`、`最もばらつきが大きい教科`(標準偏差)、`真ん中の学生の点数が最も低い教科`（中央値）、`最高点が最も高い教科`を確認してみよう。"
   ]
  },
  {
   "cell_type": "code",
   "execution_count": null,
   "metadata": {},
   "outputs": [],
   "source": [
    "\n"
   ]
  },
  {
   "cell_type": "markdown",
   "metadata": {},
   "source": [
    "(2) 各クラスの学生数を表示してみよう（特定の列のユニークな値の出現頻度を参考にしてください）。結果をvcount_02に格納するものとする。"
   ]
  },
  {
   "cell_type": "code",
   "execution_count": null,
   "metadata": {},
   "outputs": [],
   "source": [
    "\n"
   ]
  },
  {
   "cell_type": "markdown",
   "metadata": {},
   "source": [
    "(3) (1)の結果をExcelファイルに出力してみよう(シートを追加)\n",
    "- データフレーム名: `df_describe_02`\n",
    "- Excelファイル名: `出力結果.xlsx`（既に存在するファイル, 上記でoutputの変数に代入されているのでここでは代入する記述は不要）\n",
    "- シート名: `5教科成績_基本統計量`\n",
    "- index：出力あり"
   ]
  },
  {
   "cell_type": "code",
   "execution_count": null,
   "metadata": {},
   "outputs": [],
   "source": [
    "\n"
   ]
  },
  {
   "cell_type": "markdown",
   "metadata": {},
   "source": [
    "----"
   ]
  },
  {
   "cell_type": "markdown",
   "metadata": {},
   "source": [
    "# ピボットテーブル"
   ]
  },
  {
   "cell_type": "markdown",
   "metadata": {},
   "source": [
    "## データ取得\n",
    "ここでは、アパレル店の1年間の販売データ（架空のデータ）を用いる。以下に「販売データ.xlsx」の「実績管理表」のシートを`df_sale`のデータフレームに読み込む（このデータは架空データである）"
   ]
  },
  {
   "cell_type": "code",
   "execution_count": null,
   "metadata": {},
   "outputs": [],
   "source": [
    "import pandas as pd\n",
    "\n",
    "# ファイルの指定\n",
    "\n",
    "# Google Colaboratoryの場合\n",
    "file = \"drive/My Drive/Colab Notebooks/dataset/販売データ.xlsx\"\n",
    "\n",
    "# Anacondaの場合(Google Colaboratoryの場合は削除してください)\n",
    "file = \"dataset/販売データ.xlsx\"\n",
    "\n",
    "# データをpandasで読み込み\n",
    "df_sale = pd.read_excel(file, sheet_name=\"実績管理表\")\n",
    "\n",
    "# 表示\n",
    "display(df_sale)"
   ]
  },
  {
   "cell_type": "markdown",
   "metadata": {},
   "source": [
    "---\n",
    "**質問**<br>\n",
    "あなたが店長だったとします。上記ような日々の日々の販売データが記録されていたとして、どのような分析を行いますか。\n",
    "\n",
    "---"
   ]
  },
  {
   "cell_type": "markdown",
   "metadata": {},
   "source": [
    "- ピボットテーブルは、ユニーク値ごとにグループ化して統計量の算出するため用いられる\n",
    "<br><br>\n",
    "  - 例1: 商品ごとや、社員ごとの売上金額の合計を集計（この社員の売上金額はいくらか、この商品の売上金額はいくらか）\n",
    "    - ある項目のユニーク値ごとにグループ化して集計\n",
    "<br><br>    \n",
    "  - 例2: 商品と社員の2項目を組み合わせた集計（この社員のこの商品に対する売上金額はいくらか）\n",
    "    - `クロス集計`と呼ばれる\n",
    "<br><br> \n",
    "- ピボットテーブルは特に`クロス集計`を行うときに威力を発揮\n",
    "- ある項目のユニーク値ごとにグループ化して集計する場合は、Pandasの`groupby`メソッドを使うなどの代替手段がある\n",
    "----\n",
    "- 基本の書き方\n",
    "  - ある項目のユニーク値ごとにグループ化して集計（集計結果はデータフレーム）\n",
    "```\n",
    "データフレーム名.pivot_table(index   = \"集計単位の列名\",\n",
    "                             values  = \"集計する列名\",\n",
    "                             aggfunc = \"集計方法\")\n",
    "```\n",
    "  - クロス集計（集計結果はデータフレーム）\n",
    "```\n",
    "データフレーム名.pivot_table(index   = \"集計単位の列名1\",\n",
    "                             columns = \"集計単位の列名2\",\n",
    "                             values  = \"集計する列名\", \n",
    "                             aggfunc = \"集計方法\")\n",
    "```\n",
    "- 集計方法には、`sum`(合計)、`mean`(平均)、 `count`(頻度)、または`独自の関数`が設定できる。\n",
    "- 引数に`margins = True`を追加すると合計列及び合計行が作成される。その際の合計列及び合計行の名前は`all`となる\n",
    "- 合計列及び合計行の名前を`all`から変更したい場合には、引数に`margins_name = \"合計\"`を追加する"
   ]
  },
  {
   "cell_type": "markdown",
   "metadata": {},
   "source": [
    "## ある項目のユニーク値ごとにグループ化して集計"
   ]
  },
  {
   "cell_type": "markdown",
   "metadata": {},
   "source": [
    "### 社員ごとの売上金額を集計\n",
    "- どの社員の売上成績がよいのかを確認"
   ]
  },
  {
   "cell_type": "code",
   "execution_count": null,
   "metadata": {},
   "outputs": [],
   "source": [
    "df_pivot = df_sale.pivot_table(index   = \"社員ID\",    # 集計単位の列名\n",
    "                               values  = \"売上金額\",  # 集計する列名\n",
    "                               aggfunc = \"sum\",       # 集計方法\n",
    "                               margins = True,        # 合計の追加 \n",
    "                               margins_name = \"合計\") # 合計に使用する項目名\n",
    "# 集計結果を出力\n",
    "display(df_pivot) "
   ]
  },
  {
   "cell_type": "markdown",
   "metadata": {},
   "source": [
    "### 商品名ごとの売上金額を集計\n",
    "- どの商品が売上に貢献しているかを確認"
   ]
  },
  {
   "cell_type": "code",
   "execution_count": null,
   "metadata": {},
   "outputs": [],
   "source": [
    "df_pivot = df_sale.pivot_table(index   = \"商品名\",    # 集計単位の列名\n",
    "                               values  = \"売上金額\",  # 集計する列名\n",
    "                               aggfunc = \"sum\",       # 集計方法\n",
    "                               margins = True,        # 合計の追加\n",
    "                               margins_name = \"合計\") # 合計に使用する項目名\n",
    "# 集計結果を出力\n",
    "display(df_pivot) "
   ]
  },
  {
   "cell_type": "markdown",
   "metadata": {},
   "source": [
    "### 練習"
   ]
  },
  {
   "cell_type": "markdown",
   "metadata": {},
   "source": [
    "社員の性別で売上金額に違いがあるのかを確認したい。\n",
    "- 上記の`df_sale`のデータフレームを用いるものとする\n",
    "- ピボットテーブルを用いて性別ごとの売上金額の合計を出力してみよう。<br>\n",
    "- 集計結果は、`df_pivot_02`のデータフレームに格納するものとする。"
   ]
  },
  {
   "cell_type": "code",
   "execution_count": null,
   "metadata": {},
   "outputs": [],
   "source": [
    "\n",
    "\n"
   ]
  },
  {
   "cell_type": "markdown",
   "metadata": {},
   "source": [
    "## クロス集計(2項目の組み合わせて集計)"
   ]
  },
  {
   "cell_type": "markdown",
   "metadata": {},
   "source": [
    "### 各社員の商品分類ごとの売上金額を集計\n",
    "・どの社員がどの商品の売上成績がよいかを確認"
   ]
  },
  {
   "cell_type": "code",
   "execution_count": null,
   "metadata": {},
   "outputs": [],
   "source": [
    "df_pivot = df_sale.pivot_table(index   = \"社員ID\",   # 集計単位の列名1\n",
    "                               columns = \"商品分類\", # 集計単位の列名2 \n",
    "                               values  = \"売上金額\", # 集計する列名\n",
    "                               aggfunc = \"sum\",      # 集計方法\n",
    "                               margins = True,        # 合計の追加\n",
    "                               margins_name = \"合計\") # 合計に使用する項目名\n",
    "# 集計結果を出力\n",
    "display(df_pivot)"
   ]
  },
  {
   "cell_type": "markdown",
   "metadata": {},
   "source": [
    "### 複数の集計方法で同時に集計\n",
    "- 社員の販売回数を含めて表示"
   ]
  },
  {
   "cell_type": "code",
   "execution_count": null,
   "metadata": {},
   "outputs": [],
   "source": [
    "df_pivot = df_sale.pivot_table(index   = \"社員ID\", \n",
    "                               columns = \"商品分類\", \n",
    "                               values  = \"売上金額\", \n",
    "                               aggfunc = [\"sum\", \"count\"],\n",
    "                               margins = True,\n",
    "                               margins_name = \"合計\")\n",
    "# 集計結果を出力\n",
    "display(df_pivot.astype(int)) # 要素を整数値に変換"
   ]
  },
  {
   "cell_type": "markdown",
   "metadata": {},
   "source": [
    "### 行名を複数項目で設定\n",
    "- 各社員の売上月ごとの売上金額を商品分類ごとに集計"
   ]
  },
  {
   "cell_type": "code",
   "execution_count": null,
   "metadata": {},
   "outputs": [],
   "source": [
    "df_pivot = df_sale.pivot_table(index   = [\"社員ID\", \"売上月\"], \n",
    "                               columns = '商品分類', \n",
    "                               values  = \"売上金額\", \n",
    "                               aggfunc = \"sum\",\n",
    "                               margins = True,\n",
    "                               margins_name = \"合計\")\n",
    "display(df_pivot) "
   ]
  },
  {
   "cell_type": "markdown",
   "metadata": {},
   "source": [
    "### 列名を複数項目で設定\n",
    "- 各社員の売上金額を商品分類ごと・商品ごとに集計"
   ]
  },
  {
   "cell_type": "code",
   "execution_count": null,
   "metadata": {},
   "outputs": [],
   "source": [
    "df_pivot = df_sale.pivot_table(index   = \"社員ID\", \n",
    "                               columns = [\"商品分類\",\"商品名\"], \n",
    "                               values  = \"売上金額\", \n",
    "                               aggfunc = \"sum\",\n",
    "                               margins = True,\n",
    "                               margins_name = \"合計\")\n",
    "display(df_pivot) "
   ]
  },
  {
   "cell_type": "markdown",
   "metadata": {},
   "source": [
    "### nan（欠損値）を特定の値で補完\n",
    "- 引数に`fill_value= 値`を追加\n",
    "- 今回のデータではnanを0で補完"
   ]
  },
  {
   "cell_type": "code",
   "execution_count": null,
   "metadata": {},
   "outputs": [],
   "source": [
    "df_pivot = df_sale.pivot_table(index   = \"社員ID\", \n",
    "                               columns = [\"商品分類\",\"商品名\"],  \n",
    "                               values  = \"売上金額\", \n",
    "                               aggfunc = \"sum\",\n",
    "                               margins = True,\n",
    "                               margins_name = \"合計\",\n",
    "                               fill_value= 0)\n",
    "display(df_pivot) "
   ]
  },
  {
   "cell_type": "markdown",
   "metadata": {},
   "source": [
    "**結果をExcelファイルに出力(シートを追加)**\n",
    "- データフレーム名: `df_pivot`\n",
    "- Excelファイル名: `出力結果.xlsx`（既に存在するファイル, 上記でoutputの変数に代入されているのでここでは代入する記述は不要）\n",
    "- シート名: `販売データ_ピボットテーブル`\n",
    "- index：出力あり"
   ]
  },
  {
   "cell_type": "code",
   "execution_count": null,
   "metadata": {},
   "outputs": [],
   "source": [
    "with pd.ExcelWriter(outfile, engine=\"openpyxl\", mode='a',  if_sheet_exists=\"replace\") as writer:\n",
    "    df_pivot.to_excel(writer, sheet_name=\"販売データ_ピボットテーブル\")"
   ]
  },
  {
   "cell_type": "markdown",
   "metadata": {},
   "source": [
    "### 練習"
   ]
  },
  {
   "cell_type": "markdown",
   "metadata": {},
   "source": [
    "上記で使用した`df_sale`のデータフレームを用いるものとする"
   ]
  },
  {
   "cell_type": "markdown",
   "metadata": {},
   "source": [
    "(1) 各社員の商品名ごとの販売数量（数量）を集計してみよう。\n",
    "- ピボットテーブルを用いて集計する。\n",
    "- 集計結果を`df_pivot_02`のデータフレームに代入する。\n",
    "- 集計結果を出力し、商品ごとの販売数トップの社員を挙げてみよう。"
   ]
  },
  {
   "cell_type": "code",
   "execution_count": null,
   "metadata": {},
   "outputs": [],
   "source": [
    "\n"
   ]
  },
  {
   "cell_type": "markdown",
   "metadata": {},
   "source": [
    "(2) 各売上月の商品名ごとの売上金額を集計してみよう。\n",
    "- ピボットテーブルを用いて集計する。\n",
    "- 集計結果をdf_pivot_03のデータフレームに代入する。\n",
    "- 集計結果を出力し、各商品の季節ごとの販売状況を考察してみよう。"
   ]
  },
  {
   "cell_type": "code",
   "execution_count": null,
   "metadata": {},
   "outputs": [],
   "source": [
    "\n"
   ]
  },
  {
   "cell_type": "markdown",
   "metadata": {},
   "source": [
    "(3) (2)の結果をExcelファイルに出力してみよう(シートを追加)\n",
    "- データフレーム名: `df_pivot_03`\n",
    "- Excelファイル名: `出力結果.xlsx`（既に存在するファイル, 上記でoutputの変数に代入されているのでここでは代入する記述は不要）\n",
    "- シート名: `販売データ_ピボット2`\n",
    "- index：出力あり"
   ]
  },
  {
   "cell_type": "code",
   "execution_count": null,
   "metadata": {},
   "outputs": [],
   "source": [
    "\n"
   ]
  },
  {
   "cell_type": "markdown",
   "metadata": {},
   "source": [
    "----"
   ]
  }
 ],
 "metadata": {
  "kernelspec": {
   "display_name": "Python 3 (ipykernel)",
   "language": "python",
   "name": "python3"
  },
  "language_info": {
   "codemirror_mode": {
    "name": "ipython",
    "version": 3
   },
   "file_extension": ".py",
   "mimetype": "text/x-python",
   "name": "python",
   "nbconvert_exporter": "python",
   "pygments_lexer": "ipython3",
   "version": "3.9.7"
  },
  "toc": {
   "base_numbering": 1,
   "nav_menu": {},
   "number_sections": true,
   "sideBar": true,
   "skip_h1_title": false,
   "title_cell": "Table of Contents",
   "title_sidebar": "Contents",
   "toc_cell": false,
   "toc_position": {
    "height": "634.444px",
    "left": "25px",
    "top": "110.052px",
    "width": "188.452px"
   },
   "toc_section_display": true,
   "toc_window_display": true
  },
  "varInspector": {
   "cols": {
    "lenName": 16,
    "lenType": 16,
    "lenVar": 40
   },
   "kernels_config": {
    "python": {
     "delete_cmd_postfix": "",
     "delete_cmd_prefix": "del ",
     "library": "var_list.py",
     "varRefreshCmd": "print(var_dic_list())"
    },
    "r": {
     "delete_cmd_postfix": ") ",
     "delete_cmd_prefix": "rm(",
     "library": "var_list.r",
     "varRefreshCmd": "cat(var_dic_list()) "
    }
   },
   "types_to_exclude": [
    "module",
    "function",
    "builtin_function_or_method",
    "instance",
    "_Feature"
   ],
   "window_display": false
  }
 },
 "nbformat": 4,
 "nbformat_minor": 2
}
