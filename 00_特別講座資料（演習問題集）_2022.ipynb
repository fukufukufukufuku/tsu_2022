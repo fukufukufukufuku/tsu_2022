{
 "cells": [
  {
   "cell_type": "markdown",
   "id": "05b47d1f",
   "metadata": {},
   "source": [
    "**2022年度 東京成徳大学 特別講座 資料**<br>\n",
    "**東京工科大学コンピュータサイエンス学部**<br>\n",
    "**福西広晃**"
   ]
  },
  {
   "cell_type": "markdown",
   "id": "5c093921",
   "metadata": {},
   "source": [
    "----"
   ]
  },
  {
   "cell_type": "markdown",
   "id": "803a6d03",
   "metadata": {},
   "source": [
    "**演習問題を解く際は、必要に応じてセルを増やして頂いて構いません**"
   ]
  },
  {
   "cell_type": "markdown",
   "id": "bba4d1c7",
   "metadata": {},
   "source": [
    "----"
   ]
  },
  {
   "cell_type": "markdown",
   "id": "8df041c9",
   "metadata": {},
   "source": [
    "**必要に応じで以下を実行してください**"
   ]
  },
  {
   "cell_type": "markdown",
   "id": "a8160488",
   "metadata": {},
   "source": [
    "**japanize-matplotlibインストール**"
   ]
  },
  {
   "cell_type": "code",
   "execution_count": null,
   "id": "7b52171a",
   "metadata": {},
   "outputs": [],
   "source": [
    "pip install japanize-matplotlib"
   ]
  },
  {
   "cell_type": "markdown",
   "id": "09682f57",
   "metadata": {},
   "source": [
    "**Googleドライブにアクセス**"
   ]
  },
  {
   "cell_type": "code",
   "execution_count": null,
   "id": "79a0a26b",
   "metadata": {},
   "outputs": [],
   "source": [
    "from google.colab import drive\n",
    "drive.mount('/content/drive')"
   ]
  },
  {
   "cell_type": "markdown",
   "id": "e94ec841",
   "metadata": {},
   "source": [
    "----"
   ]
  },
  {
   "cell_type": "markdown",
   "id": "53eebe52",
   "metadata": {},
   "source": [
    "# 演習問題1\n",
    "変数num1が`1`または`4`の場合はnum1に2を足し、`2`または`7`の場合はnum1に3を引き、`5`または`9`の場合はnum1に4を掛け、`3`の場合はnum1を`2`で割り、それ以外の場合は何もしないプログラムを作成してみよう。num1の初期値は7とする。"
   ]
  },
  {
   "cell_type": "code",
   "execution_count": null,
   "id": "fba99f21",
   "metadata": {},
   "outputs": [],
   "source": [
    "\n"
   ]
  },
  {
   "cell_type": "markdown",
   "id": "8802ea40",
   "metadata": {},
   "source": [
    "# 演習問題2\n",
    "- num2という変数に代入された数値によって以下の表示になるプログラムを作成してみよう。num2の初期値は7とする。\n",
    "  - 2の倍数だが、3の倍数でないの場合は、「2の倍数」と表示\n",
    "  - 3の倍数だが、2の倍数でないの場合は、「3の倍数」と表示\n",
    "  - 3の倍数、かつ、2の倍数であるの場合は、「2の倍数かつ3の倍数」と表示\n",
    "  - それ以外は、「2の倍数でも3の倍数でもない」と表示\n",
    "  <br>\n",
    "  ヒント：Xの倍数の判定する場合、数値をXで割って余りが0ならXの倍数となる\n",
    "- num2の値をいろいろ変化させて、試してみよう"
   ]
  },
  {
   "cell_type": "code",
   "execution_count": null,
   "id": "a06fd36b",
   "metadata": {},
   "outputs": [],
   "source": [
    "\n"
   ]
  },
  {
   "cell_type": "markdown",
   "id": "86ee6f23",
   "metadata": {},
   "source": [
    "\n"
   ]
  },
  {
   "cell_type": "markdown",
   "id": "d07a9c4a",
   "metadata": {},
   "source": [
    "# 演習問題3\n",
    "- チケットの価格は以下のように設定されている。\n",
    "  - 18歳未満の男は1000円\n",
    "  - 18歳未満の女は800円\n",
    "  - それ以外は2000円<br>\n",
    "- 年齢と性別によって価格を表示するプログラムを作成してみよう。年齢を表す変数を`nenrei`、性別を表す変数を`seibetu`とする。20歳男性の料金を表示してみよう。"
   ]
  },
  {
   "cell_type": "code",
   "execution_count": null,
   "id": "d12fbf40",
   "metadata": {},
   "outputs": [],
   "source": [
    "\n"
   ]
  },
  {
   "cell_type": "markdown",
   "id": "6b0adc85",
   "metadata": {},
   "source": [
    "---"
   ]
  },
  {
   "cell_type": "markdown",
   "id": "1ff71d71",
   "metadata": {},
   "source": [
    "# 演習問題4\n",
    "1000から5000までの整数の中で、5の倍数と7の倍数の整数の合計を計算してみよう。合計を表す変数は`total`とする。最後に合計を表示してみよう。"
   ]
  },
  {
   "cell_type": "code",
   "execution_count": null,
   "id": "eb0f3d50",
   "metadata": {},
   "outputs": [],
   "source": [
    "\n"
   ]
  },
  {
   "cell_type": "markdown",
   "id": "be399935",
   "metadata": {},
   "source": [
    "# 演習問題5\n",
    "初期投資が1000000円で、金融商品を30年間運用したとする。1-5年目は年利3.5%、6-15年目は年利1.7%、16-27年目は年利2.4%、28-30年目は年利2.7%で運用したとして、30年後にはいくらになるかを計算してみよう。合計を表す変数は`total`とする。最後に初期投資から何倍になったかを表示してみよう。"
   ]
  },
  {
   "cell_type": "code",
   "execution_count": null,
   "id": "9903eb42",
   "metadata": {},
   "outputs": [],
   "source": [
    "\n"
   ]
  },
  {
   "cell_type": "markdown",
   "id": "e74a78b9",
   "metadata": {},
   "source": [
    "# 演習課題6"
   ]
  },
  {
   "cell_type": "markdown",
   "id": "3e017380",
   "metadata": {},
   "source": [
    "以下のテストの点数を含むリスト`scores1`がある。降順で並び替えて、上から5人目の点数を表示してみよう。"
   ]
  },
  {
   "cell_type": "code",
   "execution_count": null,
   "id": "1b10d8c8",
   "metadata": {},
   "outputs": [],
   "source": [
    "score1 = [80, 64, 85, 79, 52, 91, 82, 74, 85, 66, 73, 68, 80, 58, 78, 91]"
   ]
  },
  {
   "cell_type": "code",
   "execution_count": null,
   "id": "f6613933",
   "metadata": {},
   "outputs": [],
   "source": [
    "    \n"
   ]
  },
  {
   "cell_type": "markdown",
   "id": "353d512f",
   "metadata": {},
   "source": [
    "# 演習問題7\n",
    "以下のテストの点数を含むリスト`scores`がある。最初に成績判定用のリスト`judgements`を要素0個で作成した後、90点以上なら`S`、80点以上なら`A`、70点以上なら`B`、60点以上なら`C`、60点未満なら`D`の判定結果を追加してみよう。`リスト.append(値)`を使って追加するものとする。最後に成績判定の結果を表示してみよう。"
   ]
  },
  {
   "cell_type": "code",
   "execution_count": null,
   "id": "83d38d7e",
   "metadata": {},
   "outputs": [],
   "source": [
    "score2 = [80, 64, 85, 79, 52, 91, 82, 74, 85, 66, 73, 68, 80, 58, 78, 91]"
   ]
  },
  {
   "cell_type": "code",
   "execution_count": null,
   "id": "33b9a1ae",
   "metadata": {},
   "outputs": [],
   "source": [
    "\n"
   ]
  },
  {
   "cell_type": "markdown",
   "id": "32897145",
   "metadata": {},
   "source": [
    "----"
   ]
  },
  {
   "cell_type": "markdown",
   "id": "94d8fda7",
   "metadata": {},
   "source": [
    "# 演習問題8\n",
    "以下のセルでは、都道府県の人口データをpandasのデータフレームに読み込んでいる。次の手順で分析してみよう。\n",
    "- 男性人口率の列を追加する（男性人口率 = 人口（男）/ 人口（総数））\n",
    "- 昭和5年の各都道府県のデータを抽出する\n",
    "- 男性人口率を降順で並び替え\n",
    "- 男性人口率上位5都道府県を表示する\n",
    "- 男性人口率下位5頭道府県を表示する"
   ]
  },
  {
   "cell_type": "code",
   "execution_count": null,
   "id": "9095c95b",
   "metadata": {},
   "outputs": [],
   "source": [
    "import pandas as pd\n",
    "\n",
    "# ファイルの指定\n",
    "# Google Colaboratoryの場合\n",
    "file = \"drive/My Drive/Colab Notebooks/dataset/都道府県別人口推移.xlsx\"\n",
    "\n",
    "# Anacondaの場合(Google Colaboratoryの場合は削除してください)\n",
    "file = \"dataset/都道府県別人口推移.xlsx\"\n",
    "\n",
    "# データの読み込み\n",
    "df_population = pd.read_excel(file, sheet_name=\"Sheet1\")"
   ]
  },
  {
   "cell_type": "code",
   "execution_count": null,
   "id": "c50f0c42",
   "metadata": {},
   "outputs": [],
   "source": [
    "\n"
   ]
  },
  {
   "cell_type": "markdown",
   "id": "ab5a4aad",
   "metadata": {},
   "source": [
    "# 演習問題9\n",
    "以下のセルでは、アパレルの販売データをpandasのデータフレームに読み込んでいる。ピボットテーブルを用いて、各社員の月ごとの売上金額の合計をクロス集計し、表示してみよう。結果を見て、月ごとにトップ成績の社員を挙げてみよう。"
   ]
  },
  {
   "cell_type": "code",
   "execution_count": null,
   "id": "5cbc3ed8",
   "metadata": {},
   "outputs": [],
   "source": [
    "import pandas as pd\n",
    "\n",
    "# ファイルの指定\n",
    "# Google Colaboratoryの場合\n",
    "file = \"drive/My Drive/Colab Notebooks/dataset/販売データ.xlsx\"\n",
    "\n",
    "# Anacondaの場合(Google Colaboratoryの場合は削除してください)\n",
    "file = \"dataset/販売データ.xlsx\"\n",
    "\n",
    "# データをpandasで読み込み\n",
    "df_sale = pd.read_excel(file, sheet_name=\"実績管理表\")"
   ]
  },
  {
   "cell_type": "code",
   "execution_count": null,
   "id": "6ef7e8f2",
   "metadata": {},
   "outputs": [],
   "source": [
    "\n"
   ]
  },
  {
   "cell_type": "markdown",
   "id": "aa7cd130",
   "metadata": {},
   "source": [
    "----"
   ]
  },
  {
   "cell_type": "markdown",
   "id": "9bcbc3a0",
   "metadata": {},
   "source": [
    "# 演習課題10\n",
    "以下のセルでは、都道府県の人口データをpandasのデータフレームに読み込んでいる。2015年の人口（総数）上位5都道府県の人口（総数）の推移を折れ線グラフで可視化してみよう。グラフは`matplotlib`を使用するものとする。次の手順を参考にしよう。\n",
    "- 2015年データを抽出した後、都道府県別人口（総数）で並び替えを行い、上位5都道府県を選ぶ\n",
    "- 都道府県ごとに1920-2015年までのデータを抽出する\n",
    "- データフレームの`西暦（年）`列と、`人口（総数）`列を用いて、折れ線グラフを作成\n",
    "- グラフには`タイトル`、`xラベル`、`yラベル`、`凡例`、`補助線`を加える\n",
    "- グラフの画像を`上位5都市人口推移.png`を出力し、確認する"
   ]
  },
  {
   "cell_type": "code",
   "execution_count": null,
   "id": "ea9e9951",
   "metadata": {},
   "outputs": [],
   "source": [
    "import pandas as pd\n",
    "\n",
    "# ファイルの指定\n",
    "# Google Colaboratoryの場合\n",
    "file = \"drive/My Drive/Colab Notebooks/dataset/都道府県別人口推移.xlsx\"\n",
    "\n",
    "# Anacondaの場合(Google Colaboratoryの場合は削除してください)\n",
    "file = \"dataset/都道府県別人口推移.xlsx\"\n",
    "\n",
    "# データの読み込み\n",
    "df_population = pd.read_excel(file, sheet_name=\"Sheet1\")"
   ]
  },
  {
   "cell_type": "code",
   "execution_count": null,
   "id": "895c63d1",
   "metadata": {},
   "outputs": [],
   "source": [
    "\n"
   ]
  }
 ],
 "metadata": {
  "kernelspec": {
   "display_name": "Python 3 (ipykernel)",
   "language": "python",
   "name": "python3"
  },
  "language_info": {
   "codemirror_mode": {
    "name": "ipython",
    "version": 3
   },
   "file_extension": ".py",
   "mimetype": "text/x-python",
   "name": "python",
   "nbconvert_exporter": "python",
   "pygments_lexer": "ipython3",
   "version": "3.9.7"
  },
  "toc": {
   "base_numbering": 1,
   "nav_menu": {},
   "number_sections": true,
   "sideBar": true,
   "skip_h1_title": false,
   "title_cell": "Table of Contents",
   "title_sidebar": "Contents",
   "toc_cell": false,
   "toc_position": {},
   "toc_section_display": true,
   "toc_window_display": false
  },
  "varInspector": {
   "cols": {
    "lenName": 16,
    "lenType": 16,
    "lenVar": 40
   },
   "kernels_config": {
    "python": {
     "delete_cmd_postfix": "",
     "delete_cmd_prefix": "del ",
     "library": "var_list.py",
     "varRefreshCmd": "print(var_dic_list())"
    },
    "r": {
     "delete_cmd_postfix": ") ",
     "delete_cmd_prefix": "rm(",
     "library": "var_list.r",
     "varRefreshCmd": "cat(var_dic_list()) "
    }
   },
   "types_to_exclude": [
    "module",
    "function",
    "builtin_function_or_method",
    "instance",
    "_Feature"
   ],
   "window_display": false
  }
 },
 "nbformat": 4,
 "nbformat_minor": 5
}
